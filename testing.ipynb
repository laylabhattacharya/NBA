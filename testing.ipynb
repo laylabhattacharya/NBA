{
  "nbformat": 4,
  "nbformat_minor": 0,
  "metadata": {
    "colab": {
      "provenance": [],
      "authorship_tag": "ABX9TyOVYuFBZ4L12cb10LI8oCVh",
      "include_colab_link": true
    },
    "kernelspec": {
      "name": "python3",
      "display_name": "Python 3"
    },
    "language_info": {
      "name": "python"
    }
  },
  "cells": [
    {
      "cell_type": "markdown",
      "metadata": {
        "id": "view-in-github",
        "colab_type": "text"
      },
      "source": [
        "<a href=\"https://colab.research.google.com/github/laylabhattacharya/NBA/blob/main/testing.ipynb\" target=\"_parent\"><img src=\"https://colab.research.google.com/assets/colab-badge.svg\" alt=\"Open In Colab\"/></a>"
      ]
    },
    {
      "cell_type": "code",
      "execution_count": 2,
      "metadata": {
        "colab": {
          "base_uri": "https://localhost:8080/"
        },
        "id": "aaosaFjSp-X9",
        "outputId": "8a90d35e-8f12-4cde-8dbf-185b05e9fbee"
      },
      "outputs": [
        {
          "output_type": "stream",
          "name": "stdout",
          "text": [
            "hello sonia hello layla\n"
          ]
        }
      ],
      "source": [
        "#function definition\n",
        "def greeting(name1, name2):\n",
        "  print(\"hello\", name1, \"hello\", name2)\n",
        "\n",
        "#function call\n",
        "greeting(\"sonia\", \"layla\")\n"
      ]
    },
    {
      "cell_type": "code",
      "source": [
        "#function definition\n",
        "def greeting(name1 = \"sonia\", name2 = \"layla\"):\n",
        "  print(\"hello\", name1, \"hello\", name2)\n",
        "\n",
        "#function call\n",
        "greeting(name1=\"hannah\")\n"
      ],
      "metadata": {
        "colab": {
          "base_uri": "https://localhost:8080/"
        },
        "id": "SyB02PVSqHy5",
        "outputId": "5fc09770-38ef-4928-f57d-0257311ba25b"
      },
      "execution_count": 5,
      "outputs": [
        {
          "output_type": "stream",
          "name": "stdout",
          "text": [
            "hello hannah hello layla\n"
          ]
        }
      ]
    },
    {
      "cell_type": "code",
      "source": [
        "teams = [\"Celtics\",\"Warriors\",\"Lakers\",\"Timberwolves\",\"Mavericks\"]\n",
        "\n",
        "teams.append(\"Bulls\")\n",
        "\n",
        "#adding to a list\n",
        "teams.remove(\"Timberwolves\")\n",
        "\n",
        "teams.pop()\n",
        "\n",
        "print(len(teams))\n",
        "\n",
        "teams[1] = \"Trailblazers\"\n",
        "\n",
        "teams.insert(3,\"Pacers\")\n",
        "\n",
        "teams.sort()\n",
        "teams.reverse()\n",
        "\n",
        "#location\n",
        "print(teams.index(\"Lakers\"))\n",
        "\n",
        "#for each loop\n",
        "for team in teams:\n",
        "  print(team)"
      ],
      "metadata": {
        "colab": {
          "base_uri": "https://localhost:8080/"
        },
        "id": "kqJrv-0st7GZ",
        "outputId": "be1bb7f9-2eaa-4b91-9c35-d41302550b74"
      },
      "execution_count": 22,
      "outputs": [
        {
          "output_type": "stream",
          "name": "stdout",
          "text": [
            "4\n",
            "3\n",
            "Trailblazers\n",
            "Pacers\n",
            "Mavericks\n",
            "Lakers\n",
            "Celtics\n"
          ]
        }
      ]
    }
  ]
}
{
  "nbformat": 4,
  "nbformat_minor": 0,
  "metadata": {
    "colab": {
      "provenance": [],
      "authorship_tag": "ABX9TyNS74sQT1kDK5EK1rvGosR+",
      "include_colab_link": true
    },
    "kernelspec": {
      "name": "python3",
      "display_name": "Python 3"
    },
    "language_info": {
      "name": "python"
    }
  },
  "cells": [
    {
      "cell_type": "markdown",
      "metadata": {
        "id": "view-in-github",
        "colab_type": "text"
      },
      "source": [
        "<a href=\"https://colab.research.google.com/github/laylabhattacharya/NBA/blob/main/calculator.ipynb\" target=\"_parent\"><img src=\"https://colab.research.google.com/assets/colab-badge.svg\" alt=\"Open In Colab\"/></a>"
      ]
    },
    {
      "cell_type": "code",
      "execution_count": 14,
      "metadata": {
        "id": "7I5u3H8RoKwD",
        "colab": {
          "base_uri": "https://localhost:8080/"
        },
        "outputId": "7e501d41-146b-4164-fd33-737d229f38a8"
      },
      "outputs": [
        {
          "output_type": "stream",
          "name": "stdout",
          "text": [
            "6\n"
          ]
        }
      ],
      "source": [
        "def add(x, y): #function definition\n",
        "  return(x + y)\n",
        "\n",
        "sum = add(2, 4)  #function call\n",
        "print(sum)"
      ]
    },
    {
      "cell_type": "code",
      "source": [
        "def subtract(x, y):\n",
        "  return(x-y)\n",
        "\n",
        "subtract(4,2)"
      ],
      "metadata": {
        "colab": {
          "base_uri": "https://localhost:8080/"
        },
        "id": "2Q57jQrvoK-5",
        "outputId": "0552c496-a040-4621-d933-5f320e63ea0a"
      },
      "execution_count": 15,
      "outputs": [
        {
          "output_type": "execute_result",
          "data": {
            "text/plain": [
              "2"
            ]
          },
          "metadata": {},
          "execution_count": 15
        }
      ]
    },
    {
      "cell_type": "code",
      "source": [
        "def multiply(x, y):\n",
        "  return(x*y)"
      ],
      "metadata": {
        "id": "VivPpQoOr5VC"
      },
      "execution_count": null,
      "outputs": []
    },
    {
      "cell_type": "code",
      "source": [
        "def divide(x, y):\n",
        "  return(x/y)"
      ],
      "metadata": {
        "id": "A_hUDL2pr7AS"
      },
      "execution_count": null,
      "outputs": []
    },
    {
      "cell_type": "code",
      "source": [
        "def calculator():\n",
        "  op = input(\"What opperation do you want to do?\")\n",
        "  x = float(input(\"First number: \"))\n",
        "  y = float(input(\"Second number: \"))\n",
        "  if op == \"add\":\n",
        "    result = add(x,y)\n",
        "  elif op == \"subtract\":\n",
        "    result = subtract(x,y)\n",
        "  elif op == \"divide\":\n",
        "    result = divide(x,y)\n",
        "  elif op == \"multiply\":\n",
        "    result = multiply(x,y)\n",
        "\n",
        "  print(result)\n",
        "\n",
        "\n",
        "\n",
        "\n",
        "calculator() # function call\n"
      ],
      "metadata": {
        "colab": {
          "base_uri": "https://localhost:8080/"
        },
        "id": "PURPZE9-sNSg",
        "outputId": "711dc055-7bcf-41e9-8225-d5509547533c"
      },
      "execution_count": null,
      "outputs": [
        {
          "name": "stdout",
          "output_type": "stream",
          "text": [
            "What opperation do you want to do?divide\n"
          ]
        }
      ]
    }
  ]
}